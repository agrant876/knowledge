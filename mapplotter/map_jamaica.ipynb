{
 "cells": [
  {
   "cell_type": "code",
   "execution_count": 3,
   "metadata": {
    "collapsed": false
   },
   "outputs": [],
   "source": [
    "import matplotlib\n",
    "import sys\n",
    "import matplotlib.pyplot as plt\n",
    "from mpl_toolkits.basemap import Basemap"
   ]
  },
  {
   "cell_type": "code",
   "execution_count": 4,
   "metadata": {
    "collapsed": true
   },
   "outputs": [],
   "source": [
    "from matplotlib.collections import PatchCollection\n",
    "from matplotlib.colors import Normalize"
   ]
  },
  {
   "cell_type": "code",
   "execution_count": 47,
   "metadata": {
    "collapsed": true
   },
   "outputs": [],
   "source": [
    "import fiona\n",
    "import pandas as pd\n",
    "from descartes import PolygonPatch\n",
    "from shapely.geometry import Point, Polygon, MultiPolygon, shape\n",
    "from itertools import chain"
   ]
  },
  {
   "cell_type": "code",
   "execution_count": 6,
   "metadata": {
    "collapsed": false,
    "scrolled": true
   },
   "outputs": [],
   "source": [
    "shp = fiona.open('data/JAM_adm_shp/JAM_adm1.shp')"
   ]
  },
  {
   "cell_type": "code",
   "execution_count": 2,
   "metadata": {
    "collapsed": false
   },
   "outputs": [
    {
     "data": {
      "text/plain": [
       "['',\n",
       " '/usr/local/Cellar/python3/3.5.2_1/Frameworks/Python.framework/Versions/3.5/lib/python35.zip',\n",
       " '/usr/local/Cellar/python3/3.5.2_1/Frameworks/Python.framework/Versions/3.5/lib/python3.5',\n",
       " '/usr/local/Cellar/python3/3.5.2_1/Frameworks/Python.framework/Versions/3.5/lib/python3.5/plat-darwin',\n",
       " '/usr/local/Cellar/python3/3.5.2_1/Frameworks/Python.framework/Versions/3.5/lib/python3.5/lib-dynload',\n",
       " '/usr/local/lib/python3.5/site-packages',\n",
       " '/usr/local/lib/python3.5/site-packages/IPython/extensions',\n",
       " '/Users/andrewgrant/.ipython']"
      ]
     },
     "execution_count": 2,
     "metadata": {},
     "output_type": "execute_result"
    }
   ],
   "source": [
    "sys.path"
   ]
  },
  {
   "cell_type": "code",
   "execution_count": 8,
   "metadata": {
    "collapsed": true
   },
   "outputs": [],
   "source": [
    "pop_parishes = pd.read_csv('data/parish_pop.csv',names=['Parish','Population'])\n",
    "# Format Strings\n",
    "idx = 0\n",
    "for parish in pop_parishes.Parish:\n",
    "    if \"St.\" in parish:\n",
    "        pop_parishes.Parish[idx] = 'Saint' + parish[3:]\n",
    "\n",
    "    idx = idx+1"
   ]
  },
  {
   "cell_type": "code",
   "execution_count": 9,
   "metadata": {
    "collapsed": false
   },
   "outputs": [],
   "source": [
    "pop = []\n",
    "for pol in shp:\n",
    "    idx = 0\n",
    "    for parish in pop_parishes.Parish:\n",
    "        if(pol['properties']['NAME_1'] == parish):\n",
    "            pop.append(int(pop_parishes.Population[idx].replace(',','')))\n",
    "        idx = idx + 1"
   ]
  },
  {
   "cell_type": "code",
   "execution_count": 21,
   "metadata": {
    "collapsed": false
   },
   "outputs": [],
   "source": [
    "mp = MultiPolygon([shape(pol['geometry']) for pol in shp])\n",
    "\n",
    "cmap = plt.get_cmap('Blues')\n",
    "\n",
    "bds = mp.bounds\n",
    "extra = 0.01\n",
    "ll = (bds[0], bds[1])\n",
    "ur = (bds[2], bds[3])\n",
    "coords = list(chain(ll, ur))\n",
    "w, h = coords[2] - coords[0], coords[3] - coords[1]\n",
    "\n",
    "#minx, miny, maxx, maxy = mp.bounds\n",
    "#w, h = maxx - minx, maxy - miny\n",
    "\n",
    "#ax.set_xlim(minx - 0.2 * w, maxx + 0.2 * w)\n",
    "#ax.set_ylim(miny - 0.2 * h, maxy + 0.2 * h)\n",
    "#ax.set_aspect(1)"
   ]
  },
  {
   "cell_type": "code",
   "execution_count": 38,
   "metadata": {
    "collapsed": false
   },
   "outputs": [
    {
     "data": {
      "text/html": [
       "<div>\n",
       "<table border=\"1\" class=\"dataframe\">\n",
       "  <thead>\n",
       "    <tr style=\"text-align: right;\">\n",
       "      <th></th>\n",
       "      <th>name</th>\n",
       "      <th>place</th>\n",
       "      <th>population</th>\n",
       "      <th>admin_level</th>\n",
       "      <th>x</th>\n",
       "      <th>y</th>\n",
       "      <th>geonames:id</th>\n",
       "      <th>geonames:feature_code</th>\n",
       "    </tr>\n",
       "  </thead>\n",
       "  <tbody>\n",
       "    <tr>\n",
       "      <th>303</th>\n",
       "      <td>Spanish Town</td>\n",
       "      <td>city</td>\n",
       "      <td>145018.0</td>\n",
       "      <td>8</td>\n",
       "      <td>-76.95742</td>\n",
       "      <td>17.99107</td>\n",
       "      <td>3488465</td>\n",
       "      <td>PPLA</td>\n",
       "    </tr>\n",
       "    <tr>\n",
       "      <th>388</th>\n",
       "      <td>Savanna-la-Mar</td>\n",
       "      <td>town</td>\n",
       "      <td>16553.0</td>\n",
       "      <td>8</td>\n",
       "      <td>-78.13320</td>\n",
       "      <td>18.21895</td>\n",
       "      <td>3488613</td>\n",
       "      <td>PPLA</td>\n",
       "    </tr>\n",
       "    <tr>\n",
       "      <th>430</th>\n",
       "      <td>Saint Ann’s Bay</td>\n",
       "      <td>town</td>\n",
       "      <td>13671.0</td>\n",
       "      <td>8</td>\n",
       "      <td>-77.20098</td>\n",
       "      <td>18.43581</td>\n",
       "      <td>3488713</td>\n",
       "      <td>PPLA</td>\n",
       "    </tr>\n",
       "    <tr>\n",
       "      <th>598</th>\n",
       "      <td>Port Maria</td>\n",
       "      <td>town</td>\n",
       "      <td>7906.0</td>\n",
       "      <td>8</td>\n",
       "      <td>-76.88946</td>\n",
       "      <td>18.36849</td>\n",
       "      <td>3488985</td>\n",
       "      <td>PPLA</td>\n",
       "    </tr>\n",
       "    <tr>\n",
       "      <th>605</th>\n",
       "      <td>Port Antonio</td>\n",
       "      <td>town</td>\n",
       "      <td>14400.0</td>\n",
       "      <td>8</td>\n",
       "      <td>-76.45090</td>\n",
       "      <td>18.17615</td>\n",
       "      <td>3489005</td>\n",
       "      <td>PPLA</td>\n",
       "    </tr>\n",
       "    <tr>\n",
       "      <th>846</th>\n",
       "      <td>Morant Bay</td>\n",
       "      <td>town</td>\n",
       "      <td>9368.0</td>\n",
       "      <td>8</td>\n",
       "      <td>-76.40927</td>\n",
       "      <td>17.88145</td>\n",
       "      <td>3489440</td>\n",
       "      <td>PPLA</td>\n",
       "    </tr>\n",
       "    <tr>\n",
       "      <th>858</th>\n",
       "      <td>Montego Bay</td>\n",
       "      <td>town</td>\n",
       "      <td>82867.0</td>\n",
       "      <td>8</td>\n",
       "      <td>-77.91883</td>\n",
       "      <td>18.47116</td>\n",
       "      <td>3489460</td>\n",
       "      <td>PPLA</td>\n",
       "    </tr>\n",
       "    <tr>\n",
       "      <th>894</th>\n",
       "      <td>May Pen</td>\n",
       "      <td>town</td>\n",
       "      <td>44755.0</td>\n",
       "      <td>8</td>\n",
       "      <td>-77.24515</td>\n",
       "      <td>17.96454</td>\n",
       "      <td>3489523</td>\n",
       "      <td>PPLA</td>\n",
       "    </tr>\n",
       "    <tr>\n",
       "      <th>929</th>\n",
       "      <td>Mandeville</td>\n",
       "      <td>town</td>\n",
       "      <td>47115.0</td>\n",
       "      <td>8</td>\n",
       "      <td>-77.50714</td>\n",
       "      <td>18.04168</td>\n",
       "      <td>3489577</td>\n",
       "      <td>PPLA</td>\n",
       "    </tr>\n",
       "    <tr>\n",
       "      <th>957</th>\n",
       "      <td>Lucea</td>\n",
       "      <td>town</td>\n",
       "      <td>6289.0</td>\n",
       "      <td>8</td>\n",
       "      <td>-78.17356</td>\n",
       "      <td>18.45095</td>\n",
       "      <td>3489657</td>\n",
       "      <td>PPLA</td>\n",
       "    </tr>\n",
       "    <tr>\n",
       "      <th>1253</th>\n",
       "      <td>Half Way Tree</td>\n",
       "      <td>town</td>\n",
       "      <td>18552.0</td>\n",
       "      <td>8</td>\n",
       "      <td>-76.79928</td>\n",
       "      <td>18.01248</td>\n",
       "      <td>3490165</td>\n",
       "      <td>PPLA</td>\n",
       "    </tr>\n",
       "    <tr>\n",
       "      <th>1457</th>\n",
       "      <td>Falmouth</td>\n",
       "      <td>town</td>\n",
       "      <td>7779.0</td>\n",
       "      <td>8</td>\n",
       "      <td>-77.65587</td>\n",
       "      <td>18.49358</td>\n",
       "      <td>3490520</td>\n",
       "      <td>PPLA</td>\n",
       "    </tr>\n",
       "    <tr>\n",
       "      <th>1926</th>\n",
       "      <td>Black River</td>\n",
       "      <td>town</td>\n",
       "      <td>4229.0</td>\n",
       "      <td>8</td>\n",
       "      <td>-77.84873</td>\n",
       "      <td>18.02636</td>\n",
       "      <td>3491355</td>\n",
       "      <td>PPLA</td>\n",
       "    </tr>\n",
       "  </tbody>\n",
       "</table>\n",
       "</div>"
      ],
      "text/plain": [
       "                 name place  population  admin_level         x         y  \\\n",
       "303      Spanish Town  city    145018.0            8 -76.95742  17.99107   \n",
       "388    Savanna-la-Mar  town     16553.0            8 -78.13320  18.21895   \n",
       "430   Saint Ann’s Bay  town     13671.0            8 -77.20098  18.43581   \n",
       "598        Port Maria  town      7906.0            8 -76.88946  18.36849   \n",
       "605      Port Antonio  town     14400.0            8 -76.45090  18.17615   \n",
       "846        Morant Bay  town      9368.0            8 -76.40927  17.88145   \n",
       "858       Montego Bay  town     82867.0            8 -77.91883  18.47116   \n",
       "894           May Pen  town     44755.0            8 -77.24515  17.96454   \n",
       "929        Mandeville  town     47115.0            8 -77.50714  18.04168   \n",
       "957             Lucea  town      6289.0            8 -78.17356  18.45095   \n",
       "1253    Half Way Tree  town     18552.0            8 -76.79928  18.01248   \n",
       "1457         Falmouth  town      7779.0            8 -77.65587  18.49358   \n",
       "1926      Black River  town      4229.0            8 -77.84873  18.02636   \n",
       "\n",
       "      geonames:id geonames:feature_code  \n",
       "303       3488465                  PPLA  \n",
       "388       3488613                  PPLA  \n",
       "430       3488713                  PPLA  \n",
       "598       3488985                  PPLA  \n",
       "605       3489005                  PPLA  \n",
       "846       3489440                  PPLA  \n",
       "858       3489460                  PPLA  \n",
       "894       3489523                  PPLA  \n",
       "929       3489577                  PPLA  \n",
       "957       3489657                  PPLA  \n",
       "1253      3490165                  PPLA  \n",
       "1457      3490520                  PPLA  \n",
       "1926      3491355                  PPLA  "
      ]
     },
     "execution_count": 38,
     "metadata": {},
     "output_type": "execute_result"
    }
   ],
   "source": [
    "pop_parishes = pd.read_csv('data/jm_place.csv')\n",
    "\n",
    "capitals = pop_parishes[pop_parishes['geonames:feature_code']=='PPLA']\n",
    "capitals\n",
    "\n"
   ]
  },
  {
   "cell_type": "code",
   "execution_count": 66,
   "metadata": {
    "collapsed": false
   },
   "outputs": [
    {
     "data": {
      "image/png": "[encoded data removed]",
      "text/plain": [
       "<matplotlib.figure.Figure at 0x10966f5f8>"
      ]
     },
     "metadata": {},
     "output_type": "display_data"
    }
   ],
   "source": [
    "m = Basemap(\n",
    "    projection='tmerc',\n",
    "    lon_0=-75.,\n",
    "    lat_0=18.5,\n",
    "    ellps = 'WGS84',\n",
    "    llcrnrlon=coords[0] - extra * w,\n",
    "    llcrnrlat=coords[1] - extra + 0.01 * h,\n",
    "    urcrnrlon=coords[2] + extra * w,\n",
    "    urcrnrlat=coords[3] + extra + 0.01 * h,\n",
    "    lat_ts=0,\n",
    "    resolution='i',\n",
    "    suppress_ticks=True)\n",
    "\n",
    "for lon,lat in zip(capitals['x'], capitals['y']):\n",
    " #   print(m(mapped_x,mapped_y))\n",
    "    point = m(lon,lat)\n",
    "    m.plot(point[0],point[1],'bo')\n",
    "\n",
    "m.readshapefile(\n",
    "    'data/JAM_adm_shp/JAM_adm1',\n",
    "    'jamaica',\n",
    "    zorder=2)\n",
    "\n",
    "plt.show()"
   ]
  },
  {
   "cell_type": "code",
   "execution_count": 15,
   "metadata": {
    "collapsed": false
   },
   "outputs": [
    {
     "data": {
      "text/html": [
       "<div>\n",
       "<table border=\"1\" class=\"dataframe\">\n",
       "  <thead>\n",
       "    <tr style=\"text-align: right;\">\n",
       "      <th></th>\n",
       "      <th>poly</th>\n",
       "      <th>popu</th>\n",
       "    </tr>\n",
       "  </thead>\n",
       "  <tbody>\n",
       "    <tr>\n",
       "      <th>0</th>\n",
       "      <td>POLYGON ((-77.28597259521479 17.77819442749018...</td>\n",
       "      <td>246322</td>\n",
       "    </tr>\n",
       "    <tr>\n",
       "      <th>1</th>\n",
       "      <td>POLYGON ((-78.33791351318359 18.31778144836426...</td>\n",
       "      <td>69874</td>\n",
       "    </tr>\n",
       "    <tr>\n",
       "      <th>2</th>\n",
       "      <td>POLYGON ((-76.72610473632812 17.95458221435547...</td>\n",
       "      <td>666041</td>\n",
       "    </tr>\n",
       "    <tr>\n",
       "      <th>3</th>\n",
       "      <td>POLYGON ((-77.48729705810536 18.20236396789551...</td>\n",
       "      <td>190812</td>\n",
       "    </tr>\n",
       "    <tr>\n",
       "      <th>4</th>\n",
       "      <td>POLYGON ((-76.35819244384766 18.16736030578619...</td>\n",
       "      <td>82183</td>\n",
       "    </tr>\n",
       "    <tr>\n",
       "      <th>5</th>\n",
       "      <td>POLYGON ((-76.64042663574213 18.08993148803717...</td>\n",
       "      <td>666041</td>\n",
       "    </tr>\n",
       "    <tr>\n",
       "      <th>6</th>\n",
       "      <td>POLYGON ((-77.45295715332026 18.46930503845215...</td>\n",
       "      <td>173232</td>\n",
       "    </tr>\n",
       "    <tr>\n",
       "      <th>7</th>\n",
       "      <td>POLYGON ((-76.87819671630859 17.92763900756842...</td>\n",
       "      <td>518345</td>\n",
       "    </tr>\n",
       "    <tr>\n",
       "      <th>8</th>\n",
       "      <td>POLYGON ((-77.76097106933588 17.87680435180658...</td>\n",
       "      <td>150993</td>\n",
       "    </tr>\n",
       "    <tr>\n",
       "      <th>9</th>\n",
       "      <td>POLYGON ((-77.772216796875 18.25086784362804, ...</td>\n",
       "      <td>184662</td>\n",
       "    </tr>\n",
       "    <tr>\n",
       "      <th>10</th>\n",
       "      <td>POLYGON ((-77.07524108886719 18.41486167907726...</td>\n",
       "      <td>114227</td>\n",
       "    </tr>\n",
       "    <tr>\n",
       "      <th>11</th>\n",
       "      <td>POLYGON ((-76.19819641113276 17.9331951141358,...</td>\n",
       "      <td>94410</td>\n",
       "    </tr>\n",
       "    <tr>\n",
       "      <th>12</th>\n",
       "      <td>POLYGON ((-77.6317520141601 18.23397254943859,...</td>\n",
       "      <td>75558</td>\n",
       "    </tr>\n",
       "    <tr>\n",
       "      <th>13</th>\n",
       "      <td>POLYGON ((-78.02597045898438 18.1301383972168,...</td>\n",
       "      <td>144817</td>\n",
       "    </tr>\n",
       "  </tbody>\n",
       "</table>\n",
       "</div>"
      ],
      "text/plain": [
       "                                                 poly    popu\n",
       "0   POLYGON ((-77.28597259521479 17.77819442749018...  246322\n",
       "1   POLYGON ((-78.33791351318359 18.31778144836426...   69874\n",
       "2   POLYGON ((-76.72610473632812 17.95458221435547...  666041\n",
       "3   POLYGON ((-77.48729705810536 18.20236396789551...  190812\n",
       "4   POLYGON ((-76.35819244384766 18.16736030578619...   82183\n",
       "5   POLYGON ((-76.64042663574213 18.08993148803717...  666041\n",
       "6   POLYGON ((-77.45295715332026 18.46930503845215...  173232\n",
       "7   POLYGON ((-76.87819671630859 17.92763900756842...  518345\n",
       "8   POLYGON ((-77.76097106933588 17.87680435180658...  150993\n",
       "9   POLYGON ((-77.772216796875 18.25086784362804, ...  184662\n",
       "10  POLYGON ((-77.07524108886719 18.41486167907726...  114227\n",
       "11  POLYGON ((-76.19819641113276 17.9331951141358,...   94410\n",
       "12  POLYGON ((-77.6317520141601 18.23397254943859,...   75558\n",
       "13  POLYGON ((-78.02597045898438 18.1301383972168,...  144817"
      ]
     },
     "execution_count": 15,
     "metadata": {},
     "output_type": "execute_result"
    }
   ],
   "source": [
    "# Create dataframe for map\n",
    "pop_map = pd.DataFrame({\n",
    "        'poly': mp, \n",
    "        'popu': pop\n",
    "        })\n",
    "pop_map"
   ]
  },
  {
   "cell_type": "code",
   "execution_count": null,
   "metadata": {
    "collapsed": false
   },
   "outputs": [],
   "source": [
    "\n",
    "ax.set_xticks([])\n",
    "ax.set_yticks([])\n",
    "plt.title(\"Jamaica Population\")\n",
    "plt.savefig('data/jamaica_population.png', alpha=True, dpi=300)\n",
    "plt.show()\n"
   ]
  },
  {
   "cell_type": "code",
   "execution_count": null,
   "metadata": {
    "collapsed": true
   },
   "outputs": [],
   "source": [
    "dev = m.scatter(\n",
    "    -77.91883,18.47116,\n",
    "    5, marker='o', lw=.25,\n",
    "    facecolor='#33ccff', edgecolor='w',\n",
    "    alpha=0.9, antialiased=True,\n",
    "    label='Capitals', zorder=3)\n",
    "\n"
   ]
  },
  {
   "cell_type": "code",
   "execution_count": 18,
   "metadata": {
    "collapsed": false
   },
   "outputs": [
    {
     "data": {
      "text/plain": [
       "<matplotlib.figure.Figure at 0x109457048>"
      ]
     },
     "metadata": {},
     "output_type": "display_data"
    },
    {
     "data": {
      "image/png": "[encoded data removed]",
      "text/plain": [
       "<matplotlib.figure.Figure at 0x1094573c8>"
      ]
     },
     "metadata": {},
     "output_type": "display_data"
    }
   ],
   "source": [
    "plt.clf()\n",
    "fig = plt.figure()\n",
    "ax = fig.add_subplot(111, axisbg='w', frame_on=False)\n",
    "\n",
    "\n",
    "patches = pop_map['poly'].map(lambda x: PolygonPatch(x, ec='#555555', lw=.2, alpha=1., zorder=4))\n",
    "pc = PatchCollection(patches, match_original=True)\n",
    "\n",
    "norm = Normalize()\n",
    "pc.set_facecolor(cmap(norm(pop_map['popu'].values)))\n",
    "\n",
    "ax.add_collection(pc)\n",
    "\n",
    "plt.show()"
   ]
  },
  {
   "cell_type": "code",
   "execution_count": null,
   "metadata": {
    "collapsed": true
   },
   "outputs": [],
   "source": []
  }
 ],
 "metadata": {
  "kernelspec": {
   "display_name": "Python 3",
   "language": "python",
   "name": "python3"
  },
  "language_info": {
   "codemirror_mode": {
    "name": "ipython",
    "version": 3
   },
   "file_extension": ".py",
   "mimetype": "text/x-python",
   "name": "python",
   "nbconvert_exporter": "python",
   "pygments_lexer": "ipython3",
   "version": "3.5.2"
  }
 },
 "nbformat": 4,
 "nbformat_minor": 0
}
